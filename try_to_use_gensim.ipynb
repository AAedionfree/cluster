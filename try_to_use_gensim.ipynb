{
 "cells": [
  {
   "cell_type": "code",
   "execution_count": 44,
   "metadata": {},
   "outputs": [],
   "source": [
    "import gensim"
   ]
  },
  {
   "cell_type": "code",
   "execution_count": 8,
   "metadata": {},
   "outputs": [
    {
     "name": "stderr",
     "output_type": "stream",
     "text": [
      "C:\\Users\\ym500\\Anaconda3\\lib\\site-packages\\smart_open\\smart_open_lib.py:398: UserWarning: This function is deprecated, use smart_open.open instead. See the migration notes for details: https://github.com/RaRe-Technologies/smart_open/blob/master/README.rst#migrating-to-the-new-open-function\n",
      "  'See the migration notes for details: %s' % _MIGRATION_NOTES_URL\n",
      "C:\\Users\\ym500\\Anaconda3\\lib\\site-packages\\ipykernel_launcher.py:2: DeprecationWarning: Call to deprecated `wv` (Attribute will be removed in 4.0.0, use self instead).\n",
      "  \n"
     ]
    },
    {
     "name": "stdout",
     "output_type": "stream",
     "text": [
      "[('实施盗窃', 0.9062764644622803), ('盗窃财物', 0.9005395174026489), ('入室盗窃', 0.8805907368659973), ('作案', 0.8604358434677124), ('偷盗', 0.857388973236084), ('砸车盗窃', 0.8559609651565552), ('多次盗窃', 0.8463349938392639), ('连续作案', 0.8460714817047119), ('撬盗', 0.8446437120437622), ('盗窃犯罪', 0.8422313928604126)]\n"
     ]
    }
   ],
   "source": [
    "wx_from_text = gensim.models.KeyedVectors.load_word2vec_format('E:\\chrome_download/1000000tencent.txt')\n",
    "model = wx_from_text.wv\n",
    "\n",
    "print(model.most_similar('盗窃'))"
   ]
  },
  {
   "cell_type": "code",
   "execution_count": 40,
   "metadata": {},
   "outputs": [
    {
     "name": "stdout",
     "output_type": "stream",
     "text": [
      "<class 'list'>\n",
      "[('而在', 0.8418897390365601), ('的', 0.8374632596969604), ('是在', 0.8236218690872192), ('。', 0.8193869590759277), ('但在', 0.8143144845962524), ('在在', 0.7968164682388306), ('就在', 0.76479172706604), ('并在', 0.7615545392036438), ('他在', 0.7534868717193604), ('和', 0.7475321292877197)]\n",
      "看不见\n"
     ]
    }
   ],
   "source": [
    "try:\n",
    "    print(type(model.most_similar('在')))\n",
    "    print(model.most_similar('在'))\n",
    "    print(model.most_similar('不见')[0][0])\n",
    "except  Exception as e:\n",
    "    print(\"error catch\")\n",
    "    print(e)"
   ]
  },
  {
   "cell_type": "code",
   "execution_count": 45,
   "metadata": {
    "code_folding": []
   },
   "outputs": [
    {
     "name": "stdout",
     "output_type": "stream",
     "text": [
      "学生  change to  同学\n",
      "寝室  change to  宿舍\n",
      "['同学 在 宿舍 打游戏', '同学 在 宿舍 打游戏']\n"
     ]
    }
   ],
   "source": [
    "# preprocessing\n",
    "data = [\"同学 在 宿舍 打游戏\",\"学生 在 寝室 打游戏\"]\n",
    "synonym_map = {}\n",
    "no_synonym_words_count = 0\n",
    "for i in range(len(data)):\n",
    "    for string in data[i].split(' '):\n",
    "        if string not in synonym_map:\n",
    "            try:\n",
    "                synonym_list = model.most_similar(string)\n",
    "                for item in synonym_list:\n",
    "                    synonym_word = item[0]\n",
    "                    if synonym_word not in synonym_map:\n",
    "                        synonym_map[synonym_word] = string\n",
    "#                         print('add ',synonym_word,'to ',string)\n",
    "            except Exception as e:\n",
    "                    no_synonym_words_count += 1\n",
    "#                 print('no word ',string)\n",
    "# replace\n",
    "result = []\n",
    "for i in range(len(data)):\n",
    "    temp = \"\"\n",
    "    for string in data[i].split(' '):\n",
    "        if string in  synonym_map:\n",
    "            replace_string = synonym_map[string]\n",
    "            print(string,\" change to \",replace_string)\n",
    "        else:\n",
    "            replace_string = string\n",
    "        if temp != \"\":\n",
    "            temp = temp + \" \" + replace_string\n",
    "        else:\n",
    "            temp = replace_string\n",
    "    result.append(temp)\n",
    "print(result)"
   ]
  }
 ],
 "metadata": {
  "kernelspec": {
   "display_name": "Python 3",
   "language": "python",
   "name": "python3"
  },
  "language_info": {
   "codemirror_mode": {
    "name": "ipython",
    "version": 3
   },
   "file_extension": ".py",
   "mimetype": "text/x-python",
   "name": "python",
   "nbconvert_exporter": "python",
   "pygments_lexer": "ipython3",
   "version": "3.7.0"
  },
  "toc": {
   "base_numbering": 1,
   "nav_menu": {},
   "number_sections": true,
   "sideBar": true,
   "skip_h1_title": false,
   "title_cell": "Table of Contents",
   "title_sidebar": "Contents",
   "toc_cell": false,
   "toc_position": {},
   "toc_section_display": true,
   "toc_window_display": false
  }
 },
 "nbformat": 4,
 "nbformat_minor": 2
}
